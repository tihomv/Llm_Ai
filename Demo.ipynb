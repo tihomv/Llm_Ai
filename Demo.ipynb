{
 "cells": [
  {
   "cell_type": "code",
   "execution_count": 5,
   "metadata": {},
   "outputs": [
    {
     "data": {
      "text/plain": [
       "\"Here's one:\\n\\nWhy couldn't the bicycle stand up by itself?\\n\\n(Wait for it...)\\n\\nBecause it was two-tired!\\n\\nHope that made you smile!\""
      ]
     },
     "execution_count": 5,
     "metadata": {},
     "output_type": "execute_result"
    }
   ],
   "source": [
    "from langchain_community.llms import Ollama\n",
    "\n",
    "llm = Ollama(\n",
    "    model=\"llama3\"\n",
    ")  # assuming you have Ollama installed and have llama3 model pulled with `ollama pull llama3 `\n",
    "\n",
    "llm.invoke(\"Tell me a joke\")"
   ]
  },
  {
   "cell_type": "code",
   "execution_count": 7,
   "metadata": {},
   "outputs": [],
   "source": [
    "from langchain_core.prompts import ChatPromptTemplate\n",
    "prompt = ChatPromptTemplate.from_messages([\n",
    "    (\"system\", \"You are a world class technical documentation writer.\"),\n",
    "    (\"user\", \"{input}\")\n",
    "])"
   ]
  },
  {
   "cell_type": "code",
   "execution_count": 8,
   "metadata": {},
   "outputs": [],
   "source": [
    "chain = prompt | llm "
   ]
  },
  {
   "cell_type": "code",
   "execution_count": 9,
   "metadata": {},
   "outputs": [
    {
     "data": {
      "text/plain": [
       "\"As a technical documentation writer, I'm excited to highlight the role that Langsmith can play in testing. Here's how:\\n\\n1. **Automated Testing**: Langsmith allows you to create automated tests for your natural language processing (NLP) models and APIs. This ensures that your language understanding and generation capabilities are functioning as intended, without requiring manual intervention.\\n2. **Test Suites**: With Langsmith, you can build comprehensive test suites that cover various scenarios, edge cases, and error conditions. This helps ensure that your NLP models and APIs are robust and reliable under different usage patterns.\\n3. **Data-Driven Testing**: Langsmith enables you to create data-driven tests, where the test inputs and expected outputs are based on real-world data. This simulates real-world usage and helps identify issues that might not be caught through manual testing alone.\\n4. **Integration with CI/CD Pipelines**: Langsmith can integrate seamlessly with your continuous integration/continuous deployment (CI/CD) pipelines. This allows you to run automated tests as part of your development workflow, ensuring that your NLP models and APIs are thoroughly tested before being deployed.\\n5. **Test Results Visualization**: Langsmith provides a user-friendly interface for visualizing test results, making it easier to identify trends, patterns, and areas that require improvement.\\n6. **Collaboration and Sharing**: Langsmith enables you to share your tests with others, facilitating collaboration and knowledge sharing across teams. This ensures that everyone is working with the same set of tests and expected outcomes.\\n\\nBy leveraging these features, Langsmith can significantly enhance the testing process for NLP models and APIs, helping you deliver high-quality language understanding and generation capabilities that meet real-world needs.\""
      ]
     },
     "execution_count": 9,
     "metadata": {},
     "output_type": "execute_result"
    }
   ],
   "source": [
    "chain.invoke({\"input\": \"how can langsmith help with testing?\"})"
   ]
  },
  {
   "cell_type": "code",
   "execution_count": 14,
   "metadata": {},
   "outputs": [],
   "source": [
    "from langchain_community.embeddings import OllamaEmbeddings\n",
    "\n",
    "embeddings = OllamaEmbeddings(model=\"llama3\")"
   ]
  },
  {
   "cell_type": "code",
   "execution_count": 12,
   "metadata": {},
   "outputs": [],
   "source": [
    "from langchain_community.document_loaders import WebBaseLoader\n",
    "loader = WebBaseLoader(\"https://docs.smith.langchain.com/user_guide\")\n",
    "\n",
    "docs = loader.load()"
   ]
  },
  {
   "cell_type": "code",
   "execution_count": 53,
   "metadata": {},
   "outputs": [],
   "source": [
    "from langchain_community.document_loaders import PyPDFLoader\n",
    "\n",
    "# loader = PyPDFLoader(\"MohitVerma.pdf\")\n",
    "loader = PyPDFLoader(\"CA_test.pdf\")\n",
    "pages = loader.load_and_split()"
   ]
  },
  {
   "cell_type": "markdown",
   "metadata": {},
   "source": [
    "!pip install langchain-chroma"
   ]
  },
  {
   "cell_type": "code",
   "execution_count": 68,
   "metadata": {},
   "outputs": [],
   "source": [
    "from langchain_community.document_loaders import TextLoader\n",
    "from langchain_openai import OpenAIEmbeddings\n",
    "from langchain_text_splitters import CharacterTextSplitter\n",
    "from langchain_chroma import Chroma\n",
    "\n",
    "# text_splitter = CharacterTextSplitter(chunk_size=1000, chunk_overlap=0)\n",
    "# documents = text_splitter.split_documents(raw_documents)\n",
    "vector = Chroma.from_documents(pages, embeddings)"
   ]
  },
  {
   "cell_type": "code",
   "execution_count": 69,
   "metadata": {},
   "outputs": [
    {
     "data": {
      "text/plain": [
       "{'ids': ['0f598d9d-21f0-4cad-9961-761a19c329e0',\n",
       "  '11f5c35a-0057-4254-8006-954dcaea8863',\n",
       "  '38d4b271-69f7-4948-8eeb-2b9a2498a1ad',\n",
       "  '6e416050-3b03-418b-b431-0a15a7b3a968',\n",
       "  '8c187703-7bad-4a7f-a3d5-cf4f94b98731',\n",
       "  'a3971261-830d-4ec8-90b0-5f6dcb54e45e',\n",
       "  'd28229f5-28d3-48d0-8c8a-cd1d09dad0ca',\n",
       "  'fe9821d1-166f-4db7-aec8-36dfa60b3056'],\n",
       " 'embeddings': None,\n",
       " 'metadatas': [{'page': 2, 'source': 'CA_test.pdf'},\n",
       "  {'page': 2, 'source': 'CA_test.pdf'},\n",
       "  {'page': 1, 'source': 'CA_test.pdf'},\n",
       "  {'page': 1, 'source': 'CA_test.pdf'},\n",
       "  {'page': 2, 'source': 'CA_test.pdf'},\n",
       "  {'page': 1, 'source': 'CA_test.pdf'},\n",
       "  {'page': 1, 'source': 'MohitVerma.pdf'},\n",
       "  {'page': 0, 'source': 'MohitVerma.pdf'}],\n",
       " 'documents': ['ii © The Institute of Chartered Accountants of India \\n \\nUpdated Edition: July, 2013 \\n  \\n \\nCommittee/  : Council Affairs \\nDepartment \\nISBN : 978-81-8441-123-2 \\nE-mail : councilaffairs@icai.in \\nWebsite : www.icai.org  \\nPublished by : The  Publication  Department  on  behalf  of The \\nInstitute of Chartered Accountants of India, ICAI \\nBhawan, Post Box No. 7100,  Indraprastha  Marg,  \\nNew  Delhi- 110 002. \\nPrinted by : Sahitya  Bhawan  Publications, Hospital Road, \\nAgra 282 003. \\n  July / 2013 / 5000 Copies (Updated)',\n",
       "  'ii © The Institute of Chartered Accountants of India \\n \\nUpdated Edition: July, 2013 \\n  \\n \\nCommittee/  : Council Affairs \\nDepartment \\nISBN : 978-81-8441-123-2 \\nE-mail : councilaffairs@icai.in \\nWebsite : www.icai.org  \\nPublished by : The  Publication  Department  on  behalf  of The \\nInstitute of Chartered Accountants of India, ICAI \\nBhawan, Post Box No. 7100,  Indraprastha  Marg,  \\nNew  Delhi- 110 002. \\nPrinted by : Sahitya  Bhawan  Publications, Hospital Road, \\nAgra 282 003. \\n  July / 2013 / 5000 Copies (Updated)',\n",
       "  'THE \\nCHARTERED ACCOUNTANTS  \\nACT, 1949 \\n(No. 38 of 1949) \\n \\n \\n \\n \\n \\n \\nAs amended by The Chartered Accountants \\n(Amendment) Act, 2011  \\n(No. 3 of 2012) \\n \\n \\n \\n \\n \\n \\n \\nUpdated as on July 1, 2013 \\n \\n \\n \\n \\n \\n \\nThe Institute of Chartered Accountants of India \\n (Set up by an Act of Parliament ) \\nNew Delhi',\n",
       "  'THE \\nCHARTERED ACCOUNTANTS  \\nACT, 1949 \\n(No. 38 of 1949) \\n \\n \\n \\n \\n \\n \\nAs amended by The Chartered Accountants \\n(Amendment) Act, 2011  \\n(No. 3 of 2012) \\n \\n \\n \\n \\n \\n \\n \\nUpdated as on July 1, 2013 \\n \\n \\n \\n \\n \\n \\nThe Institute of Chartered Accountants of India \\n (Set up by an Act of Parliament ) \\nNew Delhi',\n",
       "  'ii © The Institute of Chartered Accountants of India \\n \\nUpdated Edition: July, 2013 \\n  \\n \\nCommittee/  : Council Affairs \\nDepartment \\nISBN : 978-81-8441-123-2 \\nE-mail : councilaffairs@icai.in \\nWebsite : www.icai.org  \\nPublished by : The  Publication  Department  on  behalf  of The \\nInstitute of Chartered Accountants of India, ICAI \\nBhawan, Post Box No. 7100,  Indraprastha  Marg,  \\nNew  Delhi- 110 002. \\nPrinted by : Sahitya  Bhawan  Publications, Hospital Road, \\nAgra 282 003. \\n  July / 2013 / 5000 Copies (Updated)',\n",
       "  'THE \\nCHARTERED ACCOUNTANTS  \\nACT, 1949 \\n(No. 38 of 1949) \\n \\n \\n \\n \\n \\n \\nAs amended by The Chartered Accountants \\n(Amendment) Act, 2011  \\n(No. 3 of 2012) \\n \\n \\n \\n \\n \\n \\n \\nUpdated as on July 1, 2013 \\n \\n \\n \\n \\n \\n \\nThe Institute of Chartered Accountants of India \\n (Set up by an Act of Parliament ) \\nNew Delhi',\n",
       "  'CERTIFICATES\\nUdemy - M astering Generative \\nAI with LLM s: A Hugging Face \\nGuide\\nLinkedin - M achine Learning \\nand AI Foundations: Producing \\nExplainable AI (XAI) and \\nInterpretable M achine \\nLearning Solutions\\nINTERESTS\\nCoding\\nM otorsports\\nTravelling\\nTechnology Enthusiast\\nVideography•Autom ated data analysis using Google Sheets workflow, \\nenabling efficient access and analysis of com pany data.\\nRocket Flyer Technology Pvt. Ltd.\\nSoftware Developm ent Engineer\\n03/2021 – 01/2023 | Gurugram\\n•Developed custom  M L m odels (Yolo, Detectron2, OpenCV) \\nfor tasks like face and num ber-plate recognition, vehicle \\ncategorization, and congestion analysis.\\n•Integrated M L m odels with UI interfaces for seam less user \\ninteraction with im ages/videos/IP cam eras.\\n•M anaged end-to-end AI projects, including library setup, \\nGPU configuration, and server m anagem ent.\\n•Integrated APIs (dunzo, shiprocket, W hatsapp) into Django \\nfram ework for efficient client services.\\n•Im plem ented optim izations like M ongoDB queries, \\ninventory m anagem ent, autom ated reporting, version \\ncontrol, asynchronous tasks, and system  auditing for \\nim proved efficiency.\\n•Optim ized deep learning m odels for faster perform ance in \\nreal-tim e applications.\\n•Conducted extensive research on the latest com puter \\nvision techniques, contributing to cutting-edge \\nadvancem ents in the field.\\n•Stream lined im age annotation processes by devising \\nautom ated tools, increasing team  efficiency and reducing \\nm anual errors.\\n•Collaborated with cross-functional team s to integrate \\ncom puter vision capabilities into various projects, leading \\nto im proved product features.\\nTrisect\\nDEVELOPER/Trainee\\n11/2020 – 02/2021 | Noida\\n•Created custom  APIs for seam less integration with third-\\nparty services, expanding application functionality and \\ncom patibility.\\n•Optim ized database structures for efficient data storage \\nand retrieval.\\n•Established best practices for secure coding, reducing \\nvulnerability risks within the application.\\n•Provided training and m entor-ship in various roles, \\nincluding Python, Java, C, and m ore, while creating \\nengaging and up-to-date instructional m aterials for Python \\nand Django training courses.',\n",
       "  \"Mohit Verma\\ntihomv1995@ gm ail.com\\n+91 9742817041\\nlinkedin.com /in/tihomv1995/\\ngithub.com /tihomv\\nEDUCATION\\nBachelor of Automobile \\nEngineering\\nNew Horizon College of \\nEngineering\\n2018 | Bengaluru\\nHigh School\\nSacred Heart Convent Higher \\nSecondary School\\n2013 | M athura\\nSKILLS\\nM achine Learning and Deep \\nLearning\\nAI Fram eworks and Libraries\\nNatural Language Processing \\n(NLP)\\nCom puter Vision\\nCloud Com puting\\nCritical Thinking & Problem-\\nSolving\\nAttention to Detail\\nCreativity\\nCollaboration and TeamworkPROFILE\\nW ith alm ost three years of hands-on experience in artificial\\nintelligence, I'm  passionate about utilizing m achine learning\\nand AI to tackle real-world challenges. Dem onstrated\\nexpertise spans diverse industries such as security, travel and\\ntourism , and the postal sector, showcasing adept problem-\\nsolving skills in AI and M L integration. Concrete deliverables\\ninclude im pactful outcom es through data visualization,\\nautom ation, and innovative problem-solving m ethodologies.\\nThe focus rem ains on harnessing AI to foster growth and\\nprosperity\\xa0across\\xa0sectors.\\nPROFESSIONAL EXPERIENCE\\nTata Consultancy Services\\nSystem s Engineer\\n10/2023 – present | New Delhi\\n•Collaborating closely with product team s to define \\nintegration requirem ents of AI technology for the \\ndevelopm ent of m ore com petitive products in the m arket.\\n•Enhancing the efficiency and accuracy of existing AI \\nm odels through advanced optim ization techniques, \\nresulting in im proved perform ance m etrics.\\n•Dem onstrate adept problem-solving skills and a proactive \\napproach to overcom e challenges encountered during \\ngenerative AI solutions' developm ent and deploym ent \\nphases.\\n•Com m itted to continuous learning and professional \\ngrowth, actively expanding expertise in m achine learning, \\nAI, and software engineering m ethodologies.\\n•Contributing towards advancing research/PoC by staying \\nupdated with the latest developm ents in deep learning and \\ngenerative m odeling techniques, and dissem inating \\nfindings through publications in peer-reviewed journals \\nand conferences.\\n•Designing and im plem enting cutting-edge algorithm s for \\nnatural language processing (NLP) tasks, leveraging state-\\nof-the-art generative AI m odels to achieve superior results.\\nStelling Technologies Pvt. Ltd. (RailYatri)\\nTechnology Specialist\\n01/2023 – 06/2023 | Noida\\n•Evaluated em erging technologies for potential integration, \\naligning with organizational goals and objectives.\\n•Im plem ented effective change m anagem ent strategies to \\nfacilitate the sm ooth adoption of new system s and \\nprocesses am ong users.\\n•Enhanced team  productivity through guidance and \\nm entorship in the adoption of AI technological \\nm ethodologies.\\n•Developed M L-based revenue m axim ization m odel, \\nboosting revenue by 15% in 6 m onths.\\n•Stream lined reporting process, increasing efficiency by \\n20% via autom ated report generation.\\n•Designed a dynam ic pricing system , resulting in a 10% \\nrevenue increase and a 5% decrease in supply chain costs.\"],\n",
       " 'uris': None,\n",
       " 'data': None}"
      ]
     },
     "execution_count": 69,
     "metadata": {},
     "output_type": "execute_result"
    }
   ],
   "source": [
    "\n",
    "# vector = vector.get(where={\"source\": \"CA_test.pdf\"})\n",
    "vector.get()\n",
    "\n"
   ]
  },
  {
   "cell_type": "code",
   "execution_count": 65,
   "metadata": {},
   "outputs": [],
   "source": [
    "from langchain.chains.combine_documents import create_stuff_documents_chain\n",
    "\n",
    "prompt = ChatPromptTemplate.from_template(\"\"\"Answer the following question based only on the provided context:\n",
    "\n",
    "<context>\n",
    "{context}\n",
    "</context>\n",
    "\n",
    "Question: {input}\"\"\")\n",
    "\n",
    "document_chain = create_stuff_documents_chain(llm, prompt)"
   ]
  },
  {
   "cell_type": "code",
   "execution_count": 91,
   "metadata": {},
   "outputs": [
    {
     "name": "stdout",
     "output_type": "stream",
     "text": [
      "tags=['Chroma', 'OllamaEmbeddings'] vectorstore=<langchain_chroma.vectorstores.Chroma object at 0x00000275E3457B50>\n"
     ]
    }
   ],
   "source": [
    "from langchain.chains import create_retrieval_chain\n",
    "\n",
    "retriever = vector.as_retriever()\n",
    "print(retriever)\n",
    "# retriever.search_kwargs = {\"filter\":{\"source\": \"MohitVerma.pdf\"}}\n",
    "# retriever.search_kwargs = {\"filter\":{\"source\": {\"$in\": [\"MohitVerma.pdf\",\"CA_test.pdf\"]}}}\n",
    "# retriever.search_kwargs = {\"filter\":{\"source\": {\"$in\": [\"MohitVerma.pdf\"]}}}\n",
    "retriever.search_kwargs = {\"filter\":{\"source\": {\"$in\": [\"CA_test.pdf\"]}}}\n",
    "retrieval_chain = create_retrieval_chain(retriever, document_chain)"
   ]
  },
  {
   "cell_type": "code",
   "execution_count": 92,
   "metadata": {},
   "outputs": [
    {
     "name": "stdout",
     "output_type": "stream",
     "text": [
      "Based on the provided context, there is no mention of \"Chartered Accountants\". The context only provides information about the person's education, skills, interests, and professional experience in the field of artificial intelligence, machine learning, software development, and technology. Therefore, I cannot answer this question based on the provided context.\n",
      "{'input': 'what is Chartered Accountants?', 'context': [Document(page_content='CERTIFICATES\\nUdemy - M astering Generative \\nAI with LLM s: A Hugging Face \\nGuide\\nLinkedin - M achine Learning \\nand AI Foundations: Producing \\nExplainable AI (XAI) and \\nInterpretable M achine \\nLearning Solutions\\nINTERESTS\\nCoding\\nM otorsports\\nTravelling\\nTechnology Enthusiast\\nVideography•Autom ated data analysis using Google Sheets workflow, \\nenabling efficient access and analysis of com pany data.\\nRocket Flyer Technology Pvt. Ltd.\\nSoftware Developm ent Engineer\\n03/2021 – 01/2023 | Gurugram\\n•Developed custom  M L m odels (Yolo, Detectron2, OpenCV) \\nfor tasks like face and num ber-plate recognition, vehicle \\ncategorization, and congestion analysis.\\n•Integrated M L m odels with UI interfaces for seam less user \\ninteraction with im ages/videos/IP cam eras.\\n•M anaged end-to-end AI projects, including library setup, \\nGPU configuration, and server m anagem ent.\\n•Integrated APIs (dunzo, shiprocket, W hatsapp) into Django \\nfram ework for efficient client services.\\n•Im plem ented optim izations like M ongoDB queries, \\ninventory m anagem ent, autom ated reporting, version \\ncontrol, asynchronous tasks, and system  auditing for \\nim proved efficiency.\\n•Optim ized deep learning m odels for faster perform ance in \\nreal-tim e applications.\\n•Conducted extensive research on the latest com puter \\nvision techniques, contributing to cutting-edge \\nadvancem ents in the field.\\n•Stream lined im age annotation processes by devising \\nautom ated tools, increasing team  efficiency and reducing \\nm anual errors.\\n•Collaborated with cross-functional team s to integrate \\ncom puter vision capabilities into various projects, leading \\nto im proved product features.\\nTrisect\\nDEVELOPER/Trainee\\n11/2020 – 02/2021 | Noida\\n•Created custom  APIs for seam less integration with third-\\nparty services, expanding application functionality and \\ncom patibility.\\n•Optim ized database structures for efficient data storage \\nand retrieval.\\n•Established best practices for secure coding, reducing \\nvulnerability risks within the application.\\n•Provided training and m entor-ship in various roles, \\nincluding Python, Java, C, and m ore, while creating \\nengaging and up-to-date instructional m aterials for Python \\nand Django training courses.', metadata={'page': 1, 'source': 'MohitVerma.pdf'}), Document(page_content=\"Mohit Verma\\ntihomv1995@ gm ail.com\\n+91 9742817041\\nlinkedin.com /in/tihomv1995/\\ngithub.com /tihomv\\nEDUCATION\\nBachelor of Automobile \\nEngineering\\nNew Horizon College of \\nEngineering\\n2018 | Bengaluru\\nHigh School\\nSacred Heart Convent Higher \\nSecondary School\\n2013 | M athura\\nSKILLS\\nM achine Learning and Deep \\nLearning\\nAI Fram eworks and Libraries\\nNatural Language Processing \\n(NLP)\\nCom puter Vision\\nCloud Com puting\\nCritical Thinking & Problem-\\nSolving\\nAttention to Detail\\nCreativity\\nCollaboration and TeamworkPROFILE\\nW ith alm ost three years of hands-on experience in artificial\\nintelligence, I'm  passionate about utilizing m achine learning\\nand AI to tackle real-world challenges. Dem onstrated\\nexpertise spans diverse industries such as security, travel and\\ntourism , and the postal sector, showcasing adept problem-\\nsolving skills in AI and M L integration. Concrete deliverables\\ninclude im pactful outcom es through data visualization,\\nautom ation, and innovative problem-solving m ethodologies.\\nThe focus rem ains on harnessing AI to foster growth and\\nprosperity\\xa0across\\xa0sectors.\\nPROFESSIONAL EXPERIENCE\\nTata Consultancy Services\\nSystem s Engineer\\n10/2023 – present | New Delhi\\n•Collaborating closely with product team s to define \\nintegration requirem ents of AI technology for the \\ndevelopm ent of m ore com petitive products in the m arket.\\n•Enhancing the efficiency and accuracy of existing AI \\nm odels through advanced optim ization techniques, \\nresulting in im proved perform ance m etrics.\\n•Dem onstrate adept problem-solving skills and a proactive \\napproach to overcom e challenges encountered during \\ngenerative AI solutions' developm ent and deploym ent \\nphases.\\n•Com m itted to continuous learning and professional \\ngrowth, actively expanding expertise in m achine learning, \\nAI, and software engineering m ethodologies.\\n•Contributing towards advancing research/PoC by staying \\nupdated with the latest developm ents in deep learning and \\ngenerative m odeling techniques, and dissem inating \\nfindings through publications in peer-reviewed journals \\nand conferences.\\n•Designing and im plem enting cutting-edge algorithm s for \\nnatural language processing (NLP) tasks, leveraging state-\\nof-the-art generative AI m odels to achieve superior results.\\nStelling Technologies Pvt. Ltd. (RailYatri)\\nTechnology Specialist\\n01/2023 – 06/2023 | Noida\\n•Evaluated em erging technologies for potential integration, \\naligning with organizational goals and objectives.\\n•Im plem ented effective change m anagem ent strategies to \\nfacilitate the sm ooth adoption of new system s and \\nprocesses am ong users.\\n•Enhanced team  productivity through guidance and \\nm entorship in the adoption of AI technological \\nm ethodologies.\\n•Developed M L-based revenue m axim ization m odel, \\nboosting revenue by 15% in 6 m onths.\\n•Stream lined reporting process, increasing efficiency by \\n20% via autom ated report generation.\\n•Designed a dynam ic pricing system , resulting in a 10% \\nrevenue increase and a 5% decrease in supply chain costs.\", metadata={'page': 0, 'source': 'MohitVerma.pdf'})], 'answer': 'Based on the provided context, there is no mention of \"Chartered Accountants\". The context only provides information about the person\\'s education, skills, interests, and professional experience in the field of artificial intelligence, machine learning, software development, and technology. Therefore, I cannot answer this question based on the provided context.'}\n"
     ]
    }
   ],
   "source": [
    "response = retrieval_chain.invoke({\"input\": \"what is Chartered Accountants?\"})\n",
    "print(response[\"answer\"])\n",
    "print(response)"
   ]
  }
 ],
 "metadata": {
  "kernelspec": {
   "display_name": "Llm_Ai",
   "language": "python",
   "name": "python3"
  },
  "language_info": {
   "codemirror_mode": {
    "name": "ipython",
    "version": 3
   },
   "file_extension": ".py",
   "mimetype": "text/x-python",
   "name": "python",
   "nbconvert_exporter": "python",
   "pygments_lexer": "ipython3",
   "version": "3.11.9"
  }
 },
 "nbformat": 4,
 "nbformat_minor": 2
}
